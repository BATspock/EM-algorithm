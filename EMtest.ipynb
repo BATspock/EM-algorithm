{
 "cells": [
  {
   "cell_type": "code",
   "execution_count": 115,
   "id": "d56e02d5",
   "metadata": {},
   "outputs": [],
   "source": [
    "import json\n",
    "import requests\n",
    "import random\n",
    "import numpy as np"
   ]
  },
  {
   "cell_type": "code",
   "execution_count": 116,
   "id": "f299e993",
   "metadata": {},
   "outputs": [],
   "source": [
    "url = \"https://24zl01u3ff.execute-api.us-west-1.amazonaws.com/beta\""
   ]
  },
  {
   "cell_type": "code",
   "execution_count": 117,
   "id": "28ce9e9e",
   "metadata": {},
   "outputs": [],
   "source": [
    "def get_data(url)->list:\n",
    "    url = requests.get(url)\n",
    "    text = url.text\n",
    "\n",
    "    data = json.loads(text)\n",
    "    \n",
    "    try:\n",
    "        d = data['body']\n",
    "        temp = list()\n",
    "        for i in d:\n",
    "            if i == '0': temp.append(0)\n",
    "            elif i == '1': temp.append(1)\n",
    "        return temp\n",
    "        \n",
    "    except error as e:\n",
    "        get_data(url)"
   ]
  },
  {
   "cell_type": "code",
   "execution_count": 118,
   "id": "b213f4c8",
   "metadata": {},
   "outputs": [],
   "source": [
    "def create_dataset(url, iterations = 30)->dict:\n",
    "    data = dict()\n",
    "    for _ in range(iterations):\n",
    "        data[_] = get_data(url)\n",
    "    return data"
   ]
  },
  {
   "cell_type": "code",
   "execution_count": 119,
   "id": "7428dec3",
   "metadata": {},
   "outputs": [],
   "source": [
    "X = create_dataset(url)"
   ]
  },
  {
   "cell_type": "code",
   "execution_count": 120,
   "id": "ebd1dc86",
   "metadata": {},
   "outputs": [
    {
     "data": {
      "text/plain": [
       "{0: [0, 1, 1, 1, 1, 0, 1, 1, 1, 1, 0, 1, 0, 1, 0, 1, 0, 1, 1, 1],\n",
       " 1: [0, 1, 1, 1, 0, 0, 0, 1, 1, 0, 1, 1, 1, 1, 1, 1, 1, 1, 0, 1],\n",
       " 2: [0, 1, 0, 1, 0, 1, 1, 0, 0, 1, 1, 1, 1, 0, 0, 1, 1, 1, 1, 1],\n",
       " 3: [0, 0, 1, 1, 0, 0, 0, 0, 0, 0, 0, 1, 0, 0, 0, 0, 0, 0, 0, 1],\n",
       " 4: [0, 0, 0, 0, 0, 0, 0, 0, 1, 1, 0, 0, 0, 1, 0, 1, 1, 1, 0, 1],\n",
       " 5: [1, 0, 0, 1, 0, 1, 1, 1, 1, 0, 1, 1, 1, 1, 0, 1, 1, 0, 1, 0],\n",
       " 6: [0, 1, 0, 1, 1, 0, 0, 0, 0, 0, 0, 0, 1, 0, 1, 0, 0, 1, 0, 0],\n",
       " 7: [0, 0, 0, 1, 0, 0, 0, 1, 0, 1, 1, 0, 0, 0, 0, 0, 0, 1, 0, 0],\n",
       " 8: [0, 1, 0, 1, 0, 1, 0, 0, 1, 1, 0, 0, 0, 1, 1, 0, 0, 1, 0, 0],\n",
       " 9: [1, 1, 0, 1, 1, 1, 0, 1, 1, 1, 1, 1, 0, 1, 1, 0, 1, 1, 1, 0],\n",
       " 10: [0, 0, 0, 1, 0, 1, 0, 0, 0, 1, 1, 1, 1, 0, 1, 1, 1, 0, 1, 1],\n",
       " 11: [1, 1, 0, 0, 0, 0, 0, 1, 0, 0, 1, 1, 0, 0, 1, 0, 0, 1, 1, 0],\n",
       " 12: [0, 1, 1, 1, 0, 0, 0, 1, 1, 1, 1, 1, 1, 0, 1, 1, 0, 0, 1, 1],\n",
       " 13: [0, 0, 0, 0, 0, 0, 1, 1, 1, 0, 1, 0, 1, 0, 0, 1, 0, 1, 0, 1],\n",
       " 14: [0, 0, 0, 1, 0, 0, 0, 1, 0, 0, 0, 0, 0, 0, 0, 0, 0, 0, 0, 1],\n",
       " 15: [1, 0, 0, 1, 1, 1, 1, 0, 1, 1, 0, 0, 1, 1, 0, 1, 0, 1, 0, 0],\n",
       " 16: [1, 0, 1, 0, 0, 0, 1, 0, 0, 0, 0, 1, 0, 0, 1, 0, 0, 0, 0, 0],\n",
       " 17: [1, 1, 1, 1, 1, 0, 0, 0, 1, 1, 1, 1, 1, 1, 1, 1, 1, 1, 1, 0],\n",
       " 18: [0, 0, 1, 0, 0, 0, 0, 1, 0, 0, 0, 0, 0, 1, 0, 0, 0, 0, 1, 0],\n",
       " 19: [0, 1, 0, 1, 1, 1, 0, 0, 1, 0, 0, 1, 0, 0, 1, 1, 1, 1, 1, 0],\n",
       " 20: [1, 1, 1, 0, 1, 1, 1, 1, 1, 0, 0, 1, 1, 1, 1, 0, 1, 1, 1, 1],\n",
       " 21: [1, 1, 1, 1, 0, 1, 1, 0, 1, 1, 1, 0, 0, 0, 0, 1, 1, 0, 0, 1],\n",
       " 22: [1, 0, 0, 0, 1, 0, 1, 0, 0, 0, 0, 1, 1, 0, 0, 0, 0, 0, 0, 0],\n",
       " 23: [1, 1, 1, 0, 0, 0, 1, 0, 1, 1, 1, 1, 0, 1, 1, 0, 0, 0, 1, 0],\n",
       " 24: [1, 0, 1, 0, 1, 1, 0, 0, 1, 1, 1, 1, 1, 1, 1, 0, 0, 1, 0, 1],\n",
       " 25: [0, 0, 0, 1, 0, 0, 0, 0, 0, 0, 0, 0, 0, 0, 0, 0, 0, 1, 0, 1],\n",
       " 26: [0, 1, 1, 1, 1, 1, 1, 0, 1, 0, 0, 1, 1, 1, 0, 1, 1, 1, 1, 1],\n",
       " 27: [1, 1, 0, 1, 1, 0, 0, 1, 1, 1, 1, 1, 0, 1, 1, 1, 0, 1, 1, 1],\n",
       " 28: [1, 1, 0, 1, 1, 0, 0, 1, 0, 0, 1, 0, 1, 1, 0, 1, 1, 1, 0, 0],\n",
       " 29: [1, 0, 1, 1, 1, 0, 1, 0, 1, 0, 1, 1, 1, 0, 0, 0, 0, 1, 1, 0]}"
      ]
     },
     "execution_count": 120,
     "metadata": {},
     "output_type": "execute_result"
    }
   ],
   "source": [
    "X"
   ]
  },
  {
   "cell_type": "code",
   "execution_count": 121,
   "id": "6ce371ca",
   "metadata": {},
   "outputs": [],
   "source": [
    "def expectation_step(data, thetaA, thetaB)->(float, float, float, float):\n",
    "    \n",
    "    headsA, headsB, tailsA, tailsB = 0,0,0,0\n",
    "\n",
    "    for i in range(len(data)):\n",
    "        probA = likelihood(i, data, thetaA)\n",
    "        probB = likelihood(i, data, thetaB)\n",
    "        #normalization\n",
    "        pA = probA/(probA+probB)\n",
    "        pB = probB/(probA+ probB)\n",
    "\n",
    "        headsA += pA*data[i].count(1)\n",
    "        tailsA += pA*data[i].count(0)\n",
    "        headsB += pB*data[i].count(1)\n",
    "        tailsB += pB*data[i].count(0)\n",
    "\n",
    "    return headsA, tailsA, headsB, tailsB\n",
    "\n",
    "def maximization_step(headsA, headsB, tailsA, tailsB)->(float, float):\n",
    "    \n",
    "    thetaA = headsA/(headsA+tailsA)\n",
    "    thetaB = headsB/(headsB+tailsB)\n",
    "    \n",
    "    return thetaA, thetaB\n",
    "\n",
    "def likelihood(i, data, theta)->float:\n",
    "    return pow(theta, data[i].count(1))* pow(1-theta, data[i].count(0))\n",
    "    \n",
    "    #return math.comb(len(data),data[i].count(1))*pow(theta, data[i].count(1))* pow(1-theta, data[i].count(0))\n",
    "        "
   ]
  },
  {
   "cell_type": "code",
   "execution_count": 122,
   "id": "797fb12b",
   "metadata": {},
   "outputs": [],
   "source": [
    "def find_theta(data)->(float, float):\n",
    "    thetaA, thetaB = random.random(), random.random()\n",
    "\n",
    "    for i in range(30):\n",
    "        headsA, tailsA, headsB, tailsB = expectation_step(data, thetaA, thetaB)\n",
    "        thetaA, thetaB = maximization_step(headsA, headsB, tailsA, tailsB)\n",
    "\n",
    "    print(\"%0.3f %0.3f\" %(thetaA, thetaB))\n",
    "    return (thetaA, thetaB)\n",
    "    "
   ]
  },
  {
   "cell_type": "code",
   "execution_count": 123,
   "id": "4ed2852c",
   "metadata": {},
   "outputs": [
    {
     "name": "stdout",
     "output_type": "stream",
     "text": [
      "0.648 0.279\n"
     ]
    },
    {
     "data": {
      "text/plain": [
       "(0.6484046982484822, 0.2792344065377967)"
      ]
     },
     "execution_count": 123,
     "metadata": {},
     "output_type": "execute_result"
    }
   ],
   "source": [
    "find_theta(X)"
   ]
  },
  {
   "cell_type": "code",
   "execution_count": null,
   "id": "8c5c7894",
   "metadata": {},
   "outputs": [],
   "source": []
  },
  {
   "cell_type": "code",
   "execution_count": null,
   "id": "e1714019",
   "metadata": {},
   "outputs": [],
   "source": []
  }
 ],
 "metadata": {
  "kernelspec": {
   "display_name": "Python 3 (ipykernel)",
   "language": "python",
   "name": "python3"
  },
  "language_info": {
   "codemirror_mode": {
    "name": "ipython",
    "version": 3
   },
   "file_extension": ".py",
   "mimetype": "text/x-python",
   "name": "python",
   "nbconvert_exporter": "python",
   "pygments_lexer": "ipython3",
   "version": "3.9.7"
  }
 },
 "nbformat": 4,
 "nbformat_minor": 5
}
